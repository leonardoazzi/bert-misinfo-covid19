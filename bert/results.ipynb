{
 "cells": [
  {
   "cell_type": "markdown",
   "id": "f7047732",
   "metadata": {},
   "source": [
    "# Resultados do experimento NLU\n",
    "Giulia Chimini Stefainski, Leonardo Azzi Martins, Matheus de Moraes Costa\n",
    "\n",
    "---\n",
    "\n",
    "**Objetivo:** analisar os dados da avaliação do experimento NLU."
   ]
  },
  {
   "cell_type": "code",
   "execution_count": null,
   "id": "ef9e887c",
   "metadata": {},
   "outputs": [],
   "source": [
    "%pip install -r requirements.txt"
   ]
  },
  {
   "cell_type": "code",
   "execution_count": null,
   "id": "81592f86",
   "metadata": {},
   "outputs": [],
   "source": [
    "import pandas as pd\n",
    "from matplotlib import pyplot as plt\n",
    "import seaborn as sns"
   ]
  },
  {
   "cell_type": "code",
   "execution_count": null,
   "id": "7e82de65",
   "metadata": {},
   "outputs": [],
   "source": [
    "paper_results_dict = {\n",
    "    'f1-macro': [0.774],\n",
    "    'precision': [0.734],\n",
    "    'recall': [0.840],\n",
    "    'fpr': [0.179]\n",
    "}\n",
    "\n",
    "paper_results_df = pd.DataFrame(paper_results_dict)\n",
    "paper_results_df"
   ]
  },
  {
   "cell_type": "code",
   "execution_count": null,
   "id": "62d0e97f",
   "metadata": {},
   "outputs": [],
   "source": [
    "bert_full_df = pd.read_csv('./covidbr_bert_metrics_kfold.csv', index_col=0)\n",
    "bert_full_df['dataset'] = 'covidbr_full'\n",
    "bert_full_df"
   ]
  },
  {
   "cell_type": "code",
   "execution_count": null,
   "id": "21372f36",
   "metadata": {},
   "outputs": [],
   "source": [
    "bert_nostarturl_df = pd.read_csv('./covidbr_nostarturl_bert_metrics_kfold.csv', index_col=0)\n",
    "bert_nostarturl_df['dataset'] = 'covidbr_no_starturl'\n",
    "bert_nostarturl_df"
   ]
  },
  {
   "cell_type": "code",
   "execution_count": null,
   "id": "2cd3266d",
   "metadata": {},
   "outputs": [],
   "source": [
    "bert_nourl_df = pd.read_csv('./covidbr_nourl_bert_metrics_kfold.csv', index_col=0)\n",
    "bert_nourl_df['dataset'] = 'covidbr_no_url'\n",
    "bert_nourl_df"
   ]
  },
  {
   "cell_type": "code",
   "execution_count": null,
   "id": "76b7faea",
   "metadata": {},
   "outputs": [],
   "source": [
    "metrics_df = pd.concat([bert_full_df, bert_nostarturl_df, bert_nourl_df])\n",
    "metrics_df"
   ]
  },
  {
   "cell_type": "code",
   "execution_count": null,
   "id": "20306d11",
   "metadata": {},
   "outputs": [],
   "source": [
    "def letter_annotation(ax, xoffset, yoffset, letter):\n",
    " ax.text(xoffset, yoffset, letter, transform=ax.transAxes,\n",
    "         size=12)"
   ]
  },
  {
   "cell_type": "code",
   "execution_count": null,
   "id": "78f4e1d0",
   "metadata": {},
   "outputs": [],
   "source": [
    "def letter_annotation(ax, xoffset, yoffset, letter):\n",
    " ax.text(xoffset, yoffset, letter, transform=ax.transAxes,\n",
    "                 size=12)\n",
    " \n",
    "ylim = (0.7, 0.9)\n",
    "\n",
    "fig = plt.figure(figsize=(8, 12))\n",
    "\n",
    "# Cria 2 subfiguras para a primeira e segunda linha\n",
    "(row1fig, row2fig) = fig.subfigures(2, 1, height_ratios=[1,1])\n",
    "\n",
    "# Primeira linha\n",
    "row1_axs = row1fig.subplots(1, 2)\n",
    "row1fig.subplots_adjust(wspace=0.3, hspace=0.01, left=0, right=1.2, bottom=.2)\n",
    "\n",
    "# Segunda linha\n",
    "row2_axs = row2fig.subplots(1, 2)\n",
    "row2fig.subplots_adjust(wspace=0.3, hspace=0.01, left=0, right=1.2, bottom=.3)\n",
    "\n",
    "# F1-Macro\n",
    "# ============================================================\n",
    "ax = row1_axs[0]\n",
    "sns.boxplot(data=metrics_df, x='dataset', y='f1-macro', hue='dataset', palette='Set3', ax=ax)\n",
    "ax.tick_params(labelrotation=45)\n",
    "ax.set_ylim(ylim)\n",
    "ax.set_title('F1-Macro por versão do dataset COVID.BR')\n",
    "letter_annotation(ax, -.15, 1, 'a)')\n",
    "sns.despine(offset=5, trim=False, ax=ax)\n",
    "\n",
    "# # Adiciona um ponto específico do df final_df\n",
    "# ax.annotate(f\"{float(paper_results_df['f1-macro']):.3f}\", \n",
    "#                         xy=(0, paper_results_df['f1-macro']), \n",
    "#                         xytext=(0, paper_results_df['f1-macro']),\n",
    "#                         arrowprops=dict(facecolor='black', shrink=0.09),\n",
    "#                         ha='center')\n",
    "\n",
    "ax.axhline(float(paper_results_df['f1-macro']), linewidth=0.8, color='grey', linestyle='--', label='F1-Macro em Martins et al. (2021)')\n",
    "\n",
    "# Cria uma legenda para o desempenho no conjunto de teste\n",
    "handles, labels = ax.get_legend_handles_labels()\n",
    "handles.append(plt.Line2D([0], [0], marker='v', color='w', markerfacecolor='black', markersize=10))\n",
    "# labels.append('F1-Score médio em Martins et al. (2021)')\n",
    "ax.legend(handles, labels, loc='upper right')\n",
    "\n",
    "# Precisão\n",
    "# ============================================================\n",
    "ax = row1_axs[1]\n",
    "sns.boxplot(data=metrics_df, x='dataset', y='precision', hue='dataset', palette='Set3', ax=ax)\n",
    "ax.tick_params(labelrotation=45)\n",
    "ax.set_ylim(ylim)\n",
    "ax.set_title('Precisão por versão do dataset COVID.BR')\n",
    "letter_annotation(ax, -.15, 1, 'b)')\n",
    "sns.despine(offset=5, trim=False, ax=ax)\n",
    "\n",
    "# # Adiciona um ponto específico do df final_df\n",
    "# ax.annotate(f\"{float(paper_results_df['precision']):.3f}\", \n",
    "#                         xy=(0, paper_results_df['precision']), \n",
    "#                         xytext=(0, paper_results_df['precision']),\n",
    "#                         arrowprops=dict(facecolor='black', shrink=0.09),\n",
    "#                         ha='center')\n",
    "\n",
    "ax.axhline(float(paper_results_df['precision']), linewidth=0.8, color='grey', linestyle='--', label='Precisão em Martins et al. (2021)')\n",
    "\n",
    "# Cria uma legenda para o desempenho no conjunto de teste\n",
    "handles, labels = ax.get_legend_handles_labels()\n",
    "handles.append(plt.Line2D([0], [0], marker='v', color='w', markerfacecolor='black', markersize=10))\n",
    "# labels.append('Precisão em Martins et al. (2021)')\n",
    "ax.legend(handles, labels, loc='upper right')\n",
    "\n",
    "# Recall\n",
    "# ============================================================\n",
    "ax = row2_axs[0]\n",
    "sns.boxplot(data=metrics_df, x='dataset', y='recall', hue='dataset', palette='Set3', ax=ax)\n",
    "ax.tick_params(labelrotation=45)\n",
    "ax.set_ylim(ylim)\n",
    "ax.set_title('Revocação por versão do dataset COVID.BR')\n",
    "letter_annotation(ax, -.15, 1, 'c)')\n",
    "sns.despine(offset=5, trim=False, ax=ax)\n",
    "\n",
    "# # Adiciona um ponto específico do df final_df\n",
    "# ax.annotate(f\"{float(paper_results_df['recall']):.3f}\", \n",
    "#                         xy=(0, paper_results_df['recall']), \n",
    "#                         xytext=(0, paper_results_df['recall']),\n",
    "#                         arrowprops=dict(facecolor='black', shrink=0.09),\n",
    "#                         ha='center')\n",
    "\n",
    "ax.axhline(float(paper_results_df['recall']), linewidth=0.8, color='grey', linestyle='--', label='Revocação em Martins et al. (2021)')\n",
    "\n",
    "# Cria uma legenda para o desempenho no conjunto de teste\n",
    "handles, labels = ax.get_legend_handles_labels()\n",
    "handles.append(plt.Line2D([0], [0], marker='v', color='w', markerfacecolor='black', markersize=10))\n",
    "# labels.append('Revocação em Martins et al. (2021)')\n",
    "ax.legend(handles, labels, loc='upper right')\n",
    "\n",
    "# ============================================================\n",
    "\n",
    "# Deixa o segundo gráfico da segunda linha vazio\n",
    "plt.delaxes(row2_axs[1])\n",
    "\n",
    "plt.show()\n",
    "\n"
   ]
  },
  {
   "cell_type": "code",
   "execution_count": null,
   "id": "2c436d94",
   "metadata": {},
   "outputs": [],
   "source": [
    "ylim = (0.0, 0.3)\n",
    "\n",
    "fig = plt.figure(figsize=(6, 6))\n",
    "\n",
    "# # Cria 2 subfiguras para a primeira e segunda linha\n",
    "# (row1fig, row2fig) = fig.subfigures(2, 1, height_ratios=[1,1])\n",
    "\n",
    "# # Primeira linha\n",
    "# row1_axs = row1fig.subplots(1, 2)\n",
    "# row1fig.subplots_adjust(wspace=0.3, hspace=0.01, left=0, right=1.2, bottom=.2)\n",
    "\n",
    "# # Segunda linha\n",
    "# row2_axs = row2fig.subplots(1, 2)\n",
    "# row2fig.subplots_adjust(wspace=0.3, hspace=0.01, left=0, right=1.2, bottom=.3)\n",
    "\n",
    "# False Positive Rate (FPR)\n",
    "# ============================================================\n",
    "ax = fig.add_subplot()\n",
    "sns.boxplot(data=metrics_df, x='dataset', y='fpr', hue='dataset', palette='Set3', ax=ax)\n",
    "ax.tick_params(labelrotation=45)\n",
    "ax.set_ylim(ylim)\n",
    "ax.set_title('Taxa de Falso-Positivos (FPR) por dataset')\n",
    "# letter_annotation(ax, -.15, 1, 'a)')\n",
    "sns.despine(offset=5, trim=False, ax=ax)\n",
    "\n",
    "ax.axhline(float(paper_results_df['fpr']), linewidth=0.8, color='grey', linestyle='--', label='FPR em Martins et al. (2021)')\n",
    "        \n",
    "# # Cria uma legenda para o desempenho no conjunto de teste\n",
    "# handles, labels = ax.get_legend_handles_labels()\n",
    "# handles.append(plt.Line2D([0], [0], marker='v', color='w', markerfacecolor='black', markersize=10))\n",
    "# labels.append('FPR em Martins et al. (2021)')\n",
    "ax.legend(loc='upper right')"
   ]
  }
 ],
 "metadata": {
  "kernelspec": {
   "display_name": "env",
   "language": "python",
   "name": "python3"
  },
  "language_info": {
   "codemirror_mode": {
    "name": "ipython",
    "version": 3
   },
   "file_extension": ".py",
   "mimetype": "text/x-python",
   "name": "python",
   "nbconvert_exporter": "python",
   "pygments_lexer": "ipython3",
   "version": "3.10.12"
  }
 },
 "nbformat": 4,
 "nbformat_minor": 5
}
