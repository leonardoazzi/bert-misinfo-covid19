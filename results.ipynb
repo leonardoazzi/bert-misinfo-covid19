{
 "cells": [
  {
   "cell_type": "markdown",
   "id": "38358bad",
   "metadata": {},
   "source": [
    "# Resultados dos experimentos\n",
    "Giulia Chimini Stefainski, Leonardo Azzi Martins, Matheus de Moraes Costa\n",
    "\n",
    "---\n",
    "\n",
    "**Objetivo:** sumarizar os resultados, compará-los e analisá-los."
   ]
  },
  {
   "cell_type": "markdown",
   "id": "5a6b3a1d",
   "metadata": {},
   "source": [
    "# Sumarização dos resultados\n",
    "Elabora gráficos padronizados"
   ]
  },
  {
   "cell_type": "code",
   "execution_count": null,
   "id": "81592f86",
   "metadata": {},
   "outputs": [],
   "source": [
    "import pandas as pd\n",
    "from matplotlib import pyplot as plt\n",
    "import seaborn as sns"
   ]
  },
  {
   "cell_type": "code",
   "execution_count": null,
   "id": "62d0e97f",
   "metadata": {},
   "outputs": [],
   "source": [
    "bert_full_df = pd.read_csv('./bert/covidbr_bert_metrics_kfold.csv', index_col=0)\n",
    "bert_full_df['dataset'] = 'covidbr_full'\n",
    "bert_full_df"
   ]
  },
  {
   "cell_type": "code",
   "execution_count": null,
   "id": "21372f36",
   "metadata": {},
   "outputs": [],
   "source": [
    "bert_nostarturl_df = pd.read_csv('./bert/covidbr_nostarturl_bert_metrics_kfold.csv', index_col=0)\n",
    "bert_nostarturl_df['dataset'] = 'covidbr_no_starturl'\n",
    "bert_nostarturl_df"
   ]
  },
  {
   "cell_type": "code",
   "execution_count": null,
   "id": "2cd3266d",
   "metadata": {},
   "outputs": [],
   "source": [
    "bert_nourl_df = pd.read_csv('./bert/covidbr_nourl_bert_metrics_kfold.csv', index_col=0)\n",
    "bert_nourl_df['dataset'] = 'covidbr_no_url'\n",
    "bert_nourl_df"
   ]
  },
  {
   "cell_type": "code",
   "execution_count": null,
   "id": "76b7faea",
   "metadata": {},
   "outputs": [],
   "source": [
    "bert_df = pd.concat([bert_full_df, bert_nostarturl_df, bert_nourl_df])\n",
    "bert_df"
   ]
  },
  {
   "cell_type": "code",
   "execution_count": null,
   "id": "45b7c6a8",
   "metadata": {},
   "outputs": [],
   "source": [
    "qwen_nostarturl_df = pd.read_csv('./qwen/qwen_no_start_url.csv', index_col=0)\n",
    "qwen_nostarturl_df['dataset'] = 'covidbr_no_starturl'\n",
    "qwen_nostarturl_df.columns = qwen_nostarturl_df.columns.str.lower()\n",
    "qwen_nostarturl_df"
   ]
  },
  {
   "cell_type": "code",
   "execution_count": null,
   "id": "ff1202d7",
   "metadata": {},
   "outputs": [],
   "source": [
    "qwen_nourl_df = pd.read_csv('./qwen/qwen_no_url.csv', index_col=0)\n",
    "qwen_nourl_df[\"dataset\"] = \"covidbr_no_url\"\n",
    "qwen_nourl_df.columns = qwen_nourl_df.columns.str.lower()\n",
    "qwen_nourl_df"
   ]
  },
  {
   "cell_type": "code",
   "execution_count": null,
   "id": "7c027666",
   "metadata": {},
   "outputs": [],
   "source": [
    "qwen_df = pd.concat([qwen_nostarturl_df, qwen_nourl_df])\n",
    "qwen_df"
   ]
  },
  {
   "cell_type": "code",
   "execution_count": null,
   "id": "20306d11",
   "metadata": {},
   "outputs": [],
   "source": [
    "def letter_annotation(ax, xoffset, yoffset, letter):\n",
    " ax.text(xoffset, yoffset, letter, transform=ax.transAxes,\n",
    "         size=12)"
   ]
  },
  {
   "cell_type": "code",
   "execution_count": null,
   "id": "7b358cf2",
   "metadata": {},
   "outputs": [],
   "source": [
    "# Publication-ready plotting configuration\n",
    "import matplotlib as mpl\n",
    "\n",
    "# Set global font and style parameters for publication quality\n",
    "plt.rcParams.update({\n",
    "    'font.size': 24,\n",
    "    'font.family': 'serif',\n",
    "    'font.serif': ['Times New Roman', 'Times', 'serif'],\n",
    "    'axes.titlesize': 20,\n",
    "    'axes.labelsize': 24,\n",
    "    'xtick.labelsize': 20,\n",
    "    'ytick.labelsize': 22,\n",
    "    'legend.fontsize': 24,\n",
    "    'figure.titlesize': 24,\n",
    "    'axes.linewidth': 1.2,\n",
    "    'grid.linewidth': 0.8,\n",
    "    'lines.linewidth': 1.5,\n",
    "    'patch.linewidth': 1.2,\n",
    "    'xtick.major.width': 1.2,\n",
    "    'ytick.major.width': 1.2,\n",
    "    'xtick.minor.width': 0.8,\n",
    "    'ytick.minor.width': 0.8,\n",
    "    'figure.dpi': 500,\n",
    "    'savefig.dpi': 500,\n",
    "    'savefig.bbox': 'tight',\n",
    "    'savefig.pad_inches': 0.1\n",
    "})\n",
    "\n",
    "# Define consistent color palette for publication\n",
    "\n",
    "\n",
    "# Define dataset labels for better presentation\n",
    "dataset_labels = {\n",
    "    'covidbr_full': 'Complete Dataset',\n",
    "    'covidbr_no_starturl': 'No Start URL',\n",
    "    'covidbr_no_url': 'No URL'\n",
    "}\n",
    "\n",
    "colors = {\n",
    "    \"Complete Dataset\": \"#66c2a5\",\n",
    "    \"No Start URL\": \"#fc8d62\",\n",
    "    \"No URL\": \"#8da0cb\",\n",
    "}\n"
   ]
  },
  {
   "cell_type": "code",
   "execution_count": null,
   "id": "cfcfa318",
   "metadata": {},
   "outputs": [],
   "source": [
    "def letter_annotation(ax, xoffset, yoffset, letter):\n",
    "    ax.text(xoffset, yoffset, letter, transform=ax.transAxes,\n",
    "             weight='bold', fontfamily='serif')\n",
    "\n",
    "def format_axis(ax, title, ylabel=None, xlabel=None):\n",
    "    ax.set_title(title,  weight='bold', pad=15)\n",
    "    if ylabel:\n",
    "        ax.set_ylabel(ylabel, weight='bold')\n",
    "    if xlabel:\n",
    "        ax.set_xlabel(xlabel, weight='bold')\n",
    "    ax.grid(True, alpha=0.3, linestyle='-', linewidth=0.5)\n",
    "    ax.set_axisbelow(True)\n",
    "    \n",
    "    ax.tick_params(axis='both', which='major', width=1.2, length=4)\n",
    "    ax.tick_params(axis='both', which='minor', width=0.8, length=2)\n",
    "    \n",
    "    # Set spine properties\n",
    "    for spine in ax.spines.values():\n",
    "        spine.set_linewidth(1.2)\n",
    "        spine.set_color('black')"
   ]
  },
  {
   "cell_type": "code",
   "execution_count": null,
   "id": "6ba98a88",
   "metadata": {},
   "outputs": [],
   "source": [
    "# Define the metrics to plot\n",
    "\n",
    "def plot_metrics(df: pd.DataFrame, model: str):\n",
    "    metrics = ['fpr', 'precision', 'recall', 'f1-macro', 'f1-micro']\n",
    "\n",
    "    # Create individual plots for each metric\n",
    "    for metric in metrics:\n",
    "        plt.figure(figsize=(8, 7))\n",
    "\n",
    "        # Create box plot with proper color palette\n",
    "        palette = [colors[dataset_labels[ds]] for ds in ['covidbr_full', 'covidbr_no_starturl', 'covidbr_no_url']]\n",
    "        ax = sns.boxplot(data=df, x='dataset', y=metric, \n",
    "                         order=['covidbr_full', 'covidbr_no_starturl', 'covidbr_no_url'],\n",
    "                         hue='dataset', palette=palette, linewidth=1.5, legend=False)\n",
    "\n",
    "        # Set all boxplot elements to black\n",
    "        for patch in ax.artists:\n",
    "            patch.set_edgecolor('black')\n",
    "            patch.set_linewidth(1.2)\n",
    "\n",
    "        # Set whiskers, caps, and medians to black\n",
    "        for line in ax.lines:\n",
    "            line.set_color('black')\n",
    "            line.set_linewidth(1.2)\n",
    "\n",
    "        # Apply consistent formatting\n",
    "        format_axis(ax, \"\",\n",
    "                    ylabel=metric.capitalize().replace(\"-\", \"-\"))\n",
    "\n",
    "        # Update x-axis labels with better names\n",
    "        labels = [dataset_labels[ds] for ds in ['covidbr_full', 'covidbr_no_starturl', 'covidbr_no_url']]\n",
    "        ax.set_xticks(range(len(labels)))\n",
    "        ax.set_xticklabels(labels, rotation=45, ha='right')\n",
    "\n",
    "        # y-ticks to .3f\n",
    "        ax.yaxis.set_major_formatter(plt.FuncFormatter(lambda x, _: f'{x:.3f}'))\n",
    "\n",
    "        #\n",
    "        # remove x-axis label\n",
    "        ax.set_xlabel('')\n",
    "        # Set appropriate y-axis limits based on metric type\n",
    "        if metric is 'fpr':\n",
    "            ax.set_ylim(0.05, 0.3)\n",
    "        else:\n",
    "            ax.set_ylim(0.7, 0.9)\n",
    "\n",
    "        plt.tight_layout()\n",
    "        print(f\"Plotting {model} - {metric}\")\n",
    "        # Save the plot\n",
    "        plt.savefig(f'./plots/{model}_{metric}.pdf', dpi=500, bbox_inches='tight')\n",
    "        plt.show()"
   ]
  },
  {
   "cell_type": "code",
   "execution_count": null,
   "id": "e87cd1d2",
   "metadata": {},
   "outputs": [],
   "source": [
    "# Bert plots\n",
    "plot_metrics(bert_df, 'bert')"
   ]
  },
  {
   "cell_type": "code",
   "execution_count": null,
   "id": "bff14c57",
   "metadata": {},
   "outputs": [],
   "source": [
    "# Qwen model plot\n",
    "plot_metrics(qwen_df, 'qwen')"
   ]
  },
  {
   "cell_type": "code",
   "execution_count": null,
   "id": "de9af5ba",
   "metadata": {},
   "outputs": [],
   "source": [
    "def plot_model_comparison(bert_df: pd.DataFrame, qwen_df: pd.DataFrame):\n",
    "    \"\"\"\n",
    "    Plot comparison between BERT and Qwen models for the 'No URL' dataset\n",
    "    \"\"\"\n",
    "    metrics = ['accuracy', 'precision', 'recall', 'f1-macro', 'f1-micro']\n",
    "\n",
    "    \n",
    "    # Add model identifier\n",
    "    bert_df['model'] = 'BERT'\n",
    "    qwen_df['model'] = 'Qwen'\n",
    "    \n",
    "    # Combine dataframes\n",
    "    combined_df = pd.concat([bert_df, qwen_df], ignore_index=True)\n",
    "    \n",
    "    # Define colors for models\n",
    "    model_colors = {\n",
    "        'BERT': '#2E86AB',\n",
    "        'Qwen': '#A23B72'\n",
    "    }\n",
    "    \n",
    "    # Create individual plots for each metric\n",
    "    for metric in metrics:\n",
    "        plt.figure(figsize=(8, 7))\n",
    "        \n",
    "        # Create box plot\n",
    "        palette = [model_colors[model] for model in ['BERT', 'Qwen']]\n",
    "        ax = sns.boxplot(data=combined_df, x='model', y=metric, \n",
    "                         order=['BERT', 'Qwen'],\n",
    "                         hue='model', palette=palette, linewidth=1.5, legend=False)\n",
    "        \n",
    "        # Set all boxplot elements to black\n",
    "        for patch in ax.artists:\n",
    "            patch.set_edgecolor('black')\n",
    "            patch.set_linewidth(1.2)\n",
    "        \n",
    "        # Set whiskers, caps, and medians to black\n",
    "        for line in ax.lines:\n",
    "            line.set_color('black')\n",
    "            line.set_linewidth(1.2)\n",
    "        \n",
    "        # Apply consistent formatting\n",
    "        \n",
    "        # Format y-axis to 3 decimal places\n",
    "        ax.yaxis.set_major_formatter(plt.FuncFormatter(lambda x, _: f'{x:.3f}'))\n",
    "        \n",
    "        # Remove x-axis label\n",
    "        ax.set_xlabel('')\n",
    "        \n",
    "        # Set appropriate y-axis limits\n",
    "        ax.set_ylim(0.7, 0.9)\n",
    "        \n",
    "        plt.tight_layout()\n",
    "        print(f\"Plotting Model Comparison - {metric}\")\n",
    "        plt.show()\n",
    "\n",
    "# Create combined comparison plot\n",
    "plot_model_comparison(bert_df, qwen_df)"
   ]
  },
  {
   "cell_type": "markdown",
   "id": "952d9c85",
   "metadata": {},
   "source": [
    "# Análise dos resultados"
   ]
  },
  {
   "cell_type": "markdown",
   "id": "f21daa3c",
   "metadata": {},
   "source": [
    "## URLs\n",
    "Como o tokenizador dos modelos experimentados representa URLs tokenizadas? Existem diferenças?"
   ]
  },
  {
   "cell_type": "code",
   "execution_count": null,
   "id": "f6fa1aed",
   "metadata": {},
   "outputs": [],
   "source": [
    "%pip install tiktoken==0.9.0"
   ]
  },
  {
   "cell_type": "code",
   "execution_count": null,
   "id": "a4e0ff19",
   "metadata": {},
   "outputs": [],
   "source": [
    "from transformers import AutoTokenizer  \n",
    "import tiktoken\n",
    "\n",
    "url = \"https://g1.globo.com/mundo/noticia/2025/06/22/chanceler-do-ira-diz-que-eua-cruzaram-linha-vermelha-com-ataque-a-instalacoes-nucleares.ghtml\"  \n",
    "\n",
    "print(\"URL de teste\", url, \"\\n\")\n",
    "\n",
    "# QWEN3 0.6B tokenizer ==========================================================================================\n",
    "  \n",
    "tokenizer = AutoTokenizer.from_pretrained('Qwen/Qwen3-0.6B', trust_remote_code=True)  \n",
    "  \n",
    "# Tokenize your URL  \n",
    "tokens = tokenizer.tokenize(url)  \n",
    "token_ids = tokenizer.encode(url)  \n",
    "  \n",
    "print(\"Qwen/Qwen3-0.6B\")\n",
    "print(\"Tokens:\", tokens)  \n",
    "print(\"Token IDs:\", token_ids)  \n",
    "print(\"Decoded back:\", tokenizer.decode(token_ids))\n",
    "\n",
    "# GPT4o tokenizer ==============================================================================================\n",
    "enc = tiktoken.get_encoding(\"o200k_base\")\n",
    "\n",
    "gpt4o_token_ids = enc.encode(url)\n",
    "gpt4o_tokens = [enc.decode([tid]) for tid in gpt4o_token_ids]\n",
    "\n",
    "print(\"\\nGPT-4o (tiktoken o200k_base)\")\n",
    "print(\"Tokens:\", gpt4o_tokens)\n",
    "print(\"Token IDs:\", gpt4o_token_ids)\n",
    "print(\"Decoded back:\", enc.decode(gpt4o_token_ids))\n",
    "\n",
    "# BERTimbau tokenizer ==========================================================================================\n",
    "tokenizer = AutoTokenizer.from_pretrained('neuralmind/bert-base-portuguese-cased', trust_remote_code=True)  \n",
    "  \n",
    "# Tokenize your URL  \n",
    "tokens = tokenizer.tokenize(url)  \n",
    "token_ids = tokenizer.encode(url)  \n",
    "  \n",
    "print(\"\\nneuralmind/bert-base-portuguese-cased\")\n",
    "print(\"Tokens:\", tokens)  \n",
    "print(\"Token IDs:\", token_ids)  \n",
    "print(\"Decoded back:\", tokenizer.decode(token_ids))\n"
   ]
  }
 ],
 "metadata": {
  "kernelspec": {
   "display_name": "env",
   "language": "python",
   "name": "python3"
  },
  "language_info": {
   "codemirror_mode": {
    "name": "ipython",
    "version": 3
   },
   "file_extension": ".py",
   "mimetype": "text/x-python",
   "name": "python",
   "nbconvert_exporter": "python",
   "pygments_lexer": "ipython3",
   "version": "3.10.12"
  }
 },
 "nbformat": 4,
 "nbformat_minor": 5
}
