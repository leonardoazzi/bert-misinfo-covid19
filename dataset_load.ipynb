{
 "cells": [
  {
   "cell_type": "markdown",
   "metadata": {},
   "source": [
    "# Preparação de dados\n",
    "Carrega o dataset a ser utilizado para fine-tuning e seleciona os atributos mais relevantes."
   ]
  },
  {
   "cell_type": "code",
   "execution_count": 14,
   "metadata": {},
   "outputs": [
    {
     "name": "stdout",
     "output_type": "stream",
     "text": [
      "Requirement already satisfied: pandas==2.2.3 in ./env/lib/python3.10/site-packages (2.2.3)\n",
      "Requirement already satisfied: numpy>=1.22.4 in ./env/lib/python3.10/site-packages (from pandas==2.2.3) (2.2.6)\n",
      "Requirement already satisfied: tzdata>=2022.7 in ./env/lib/python3.10/site-packages (from pandas==2.2.3) (2025.2)\n",
      "Requirement already satisfied: pytz>=2020.1 in ./env/lib/python3.10/site-packages (from pandas==2.2.3) (2025.2)\n",
      "Requirement already satisfied: python-dateutil>=2.8.2 in ./env/lib/python3.10/site-packages (from pandas==2.2.3) (2.9.0.post0)\n",
      "Requirement already satisfied: six>=1.5 in ./env/lib/python3.10/site-packages (from python-dateutil>=2.8.2->pandas==2.2.3) (1.17.0)\n",
      "Note: you may need to restart the kernel to use updated packages.\n"
     ]
    }
   ],
   "source": [
    "%pip install pandas==2.2.3"
   ]
  },
  {
   "cell_type": "code",
   "execution_count": null,
   "metadata": {},
   "outputs": [
    {
     "name": "stdout",
     "output_type": "stream",
     "text": [
      "2.2.3\n"
     ]
    }
   ],
   "source": [
    "import pandas as pd"
   ]
  },
  {
   "cell_type": "markdown",
   "metadata": {},
   "source": [
    "Faz o download do dataset anotado no diretório ./data"
   ]
  },
  {
   "cell_type": "code",
   "execution_count": 1,
   "metadata": {},
   "outputs": [
    {
     "name": "stdout",
     "output_type": "stream",
     "text": [
      "  % Total    % Received % Xferd  Average Speed   Time    Time     Time  Current\n",
      "                                 Dload  Upload   Total   Spent    Left  Speed\n",
      "100 2243k  100 2243k    0     0   487k      0  0:00:04  0:00:04 --:--:--  487k\n"
     ]
    }
   ],
   "source": [
    "!curl -L -o ./data/covidbr_labeled.csv https://zenodo.org/records/5193932/files/covidbr_labeled.csv"
   ]
  },
  {
   "cell_type": "code",
   "execution_count": 10,
   "metadata": {},
   "outputs": [
    {
     "data": {
      "text/html": [
       "<div>\n",
       "<style scoped>\n",
       "    .dataframe tbody tr th:only-of-type {\n",
       "        vertical-align: middle;\n",
       "    }\n",
       "\n",
       "    .dataframe tbody tr th {\n",
       "        vertical-align: top;\n",
       "    }\n",
       "\n",
       "    .dataframe thead th {\n",
       "        text-align: right;\n",
       "    }\n",
       "</style>\n",
       "<table border=\"1\" class=\"dataframe\">\n",
       "  <thead>\n",
       "    <tr style=\"text-align: right;\">\n",
       "      <th></th>\n",
       "      <th>shares</th>\n",
       "      <th>text</th>\n",
       "      <th>misinformation</th>\n",
       "      <th>source</th>\n",
       "      <th>revision</th>\n",
       "    </tr>\n",
       "  </thead>\n",
       "  <tbody>\n",
       "    <tr>\n",
       "      <th>0</th>\n",
       "      <td>27</td>\n",
       "      <td>O ministro da Ciência, Tecnologia, Inovações e...</td>\n",
       "      <td>0</td>\n",
       "      <td>https://www.gov.br/pt-br/noticias/educacao-e-p...</td>\n",
       "      <td>NaN</td>\n",
       "    </tr>\n",
       "    <tr>\n",
       "      <th>1</th>\n",
       "      <td>26</td>\n",
       "      <td>Pesquisa com mais de 6.000 médicos em 30 paíse...</td>\n",
       "      <td>1</td>\n",
       "      <td>https://www.aosfatos.org/noticias/e-falso-que-...</td>\n",
       "      <td>NaN</td>\n",
       "    </tr>\n",
       "    <tr>\n",
       "      <th>2</th>\n",
       "      <td>25</td>\n",
       "      <td>É com muita alegria que comunico que mais um p...</td>\n",
       "      <td>0</td>\n",
       "      <td>http://portal.mec.gov.br/component/content/art...</td>\n",
       "      <td>NaN</td>\n",
       "    </tr>\n",
       "    <tr>\n",
       "      <th>3</th>\n",
       "      <td>25</td>\n",
       "      <td>Renda Brasil unificará vários programas sociai...</td>\n",
       "      <td>0</td>\n",
       "      <td>https://agenciabrasil.ebc.com.br/politica/noti...</td>\n",
       "      <td>NaN</td>\n",
       "    </tr>\n",
       "    <tr>\n",
       "      <th>4</th>\n",
       "      <td>24</td>\n",
       "      <td>O Secretário-Geral da OTAN Jens Stoltenberg ta...</td>\n",
       "      <td>0</td>\n",
       "      <td>NaN</td>\n",
       "      <td>1.0</td>\n",
       "    </tr>\n",
       "    <tr>\n",
       "      <th>...</th>\n",
       "      <td>...</td>\n",
       "      <td>...</td>\n",
       "      <td>...</td>\n",
       "      <td>...</td>\n",
       "      <td>...</td>\n",
       "    </tr>\n",
       "    <tr>\n",
       "      <th>2894</th>\n",
       "      <td>1</td>\n",
       "      <td>A torcida do corona deve estar arrancando os c...</td>\n",
       "      <td>0</td>\n",
       "      <td>NaN</td>\n",
       "      <td>NaN</td>\n",
       "    </tr>\n",
       "    <tr>\n",
       "      <th>2895</th>\n",
       "      <td>1</td>\n",
       "      <td>“OS EUA E O CORONAVÍRUS :\\n\\nAcabei de assisti...</td>\n",
       "      <td>0</td>\n",
       "      <td>https://www.reuters.com/article/us-health-coro...</td>\n",
       "      <td>1.0</td>\n",
       "    </tr>\n",
       "    <tr>\n",
       "      <th>2896</th>\n",
       "      <td>1</td>\n",
       "      <td>Estatísticas falsas conforme depoimentos colhi...</td>\n",
       "      <td>1</td>\n",
       "      <td>NaN</td>\n",
       "      <td>1.0</td>\n",
       "    </tr>\n",
       "    <tr>\n",
       "      <th>2897</th>\n",
       "      <td>1</td>\n",
       "      <td>Atenção =&gt; 🇧🇷💓💓💓 *MUITO IMPORTANTE! \"Como é qu...</td>\n",
       "      <td>0</td>\n",
       "      <td>NaN</td>\n",
       "      <td>NaN</td>\n",
       "    </tr>\n",
       "    <tr>\n",
       "      <th>2898</th>\n",
       "      <td>1</td>\n",
       "      <td>[2:36 PM, 11/06/2020] Wellington: ```*ALERTA A...</td>\n",
       "      <td>1</td>\n",
       "      <td>https://www.boatos.org/mundo/argentina-nao-exi...</td>\n",
       "      <td>NaN</td>\n",
       "    </tr>\n",
       "  </tbody>\n",
       "</table>\n",
       "<p>2899 rows × 5 columns</p>\n",
       "</div>"
      ],
      "text/plain": [
       "      shares                                               text  \\\n",
       "0         27  O ministro da Ciência, Tecnologia, Inovações e...   \n",
       "1         26  Pesquisa com mais de 6.000 médicos em 30 paíse...   \n",
       "2         25  É com muita alegria que comunico que mais um p...   \n",
       "3         25  Renda Brasil unificará vários programas sociai...   \n",
       "4         24  O Secretário-Geral da OTAN Jens Stoltenberg ta...   \n",
       "...      ...                                                ...   \n",
       "2894       1  A torcida do corona deve estar arrancando os c...   \n",
       "2895       1  “OS EUA E O CORONAVÍRUS :\\n\\nAcabei de assisti...   \n",
       "2896       1  Estatísticas falsas conforme depoimentos colhi...   \n",
       "2897       1  Atenção => 🇧🇷💓💓💓 *MUITO IMPORTANTE! \"Como é qu...   \n",
       "2898       1  [2:36 PM, 11/06/2020] Wellington: ```*ALERTA A...   \n",
       "\n",
       "      misinformation                                             source  \\\n",
       "0                  0  https://www.gov.br/pt-br/noticias/educacao-e-p...   \n",
       "1                  1  https://www.aosfatos.org/noticias/e-falso-que-...   \n",
       "2                  0  http://portal.mec.gov.br/component/content/art...   \n",
       "3                  0  https://agenciabrasil.ebc.com.br/politica/noti...   \n",
       "4                  0                                                NaN   \n",
       "...              ...                                                ...   \n",
       "2894               0                                                NaN   \n",
       "2895               0  https://www.reuters.com/article/us-health-coro...   \n",
       "2896               1                                                NaN   \n",
       "2897               0                                                NaN   \n",
       "2898               1  https://www.boatos.org/mundo/argentina-nao-exi...   \n",
       "\n",
       "      revision  \n",
       "0          NaN  \n",
       "1          NaN  \n",
       "2          NaN  \n",
       "3          NaN  \n",
       "4          1.0  \n",
       "...        ...  \n",
       "2894       NaN  \n",
       "2895       1.0  \n",
       "2896       1.0  \n",
       "2897       NaN  \n",
       "2898       NaN  \n",
       "\n",
       "[2899 rows x 5 columns]"
      ]
     },
     "execution_count": 10,
     "metadata": {},
     "output_type": "execute_result"
    }
   ],
   "source": [
    "original_dataset_df = pd.read_csv('./data/covidbr_labeled.csv')\n",
    "original_dataset_df"
   ]
  },
  {
   "cell_type": "code",
   "execution_count": 12,
   "metadata": {},
   "outputs": [
    {
     "data": {
      "text/html": [
       "<div>\n",
       "<style scoped>\n",
       "    .dataframe tbody tr th:only-of-type {\n",
       "        vertical-align: middle;\n",
       "    }\n",
       "\n",
       "    .dataframe tbody tr th {\n",
       "        vertical-align: top;\n",
       "    }\n",
       "\n",
       "    .dataframe thead th {\n",
       "        text-align: right;\n",
       "    }\n",
       "</style>\n",
       "<table border=\"1\" class=\"dataframe\">\n",
       "  <thead>\n",
       "    <tr style=\"text-align: right;\">\n",
       "      <th></th>\n",
       "      <th>text</th>\n",
       "      <th>misinformation</th>\n",
       "    </tr>\n",
       "  </thead>\n",
       "  <tbody>\n",
       "    <tr>\n",
       "      <th>0</th>\n",
       "      <td>O ministro da Ciência, Tecnologia, Inovações e...</td>\n",
       "      <td>0</td>\n",
       "    </tr>\n",
       "    <tr>\n",
       "      <th>1</th>\n",
       "      <td>Pesquisa com mais de 6.000 médicos em 30 paíse...</td>\n",
       "      <td>1</td>\n",
       "    </tr>\n",
       "    <tr>\n",
       "      <th>2</th>\n",
       "      <td>É com muita alegria que comunico que mais um p...</td>\n",
       "      <td>0</td>\n",
       "    </tr>\n",
       "    <tr>\n",
       "      <th>3</th>\n",
       "      <td>Renda Brasil unificará vários programas sociai...</td>\n",
       "      <td>0</td>\n",
       "    </tr>\n",
       "    <tr>\n",
       "      <th>4</th>\n",
       "      <td>O Secretário-Geral da OTAN Jens Stoltenberg ta...</td>\n",
       "      <td>0</td>\n",
       "    </tr>\n",
       "    <tr>\n",
       "      <th>...</th>\n",
       "      <td>...</td>\n",
       "      <td>...</td>\n",
       "    </tr>\n",
       "    <tr>\n",
       "      <th>2894</th>\n",
       "      <td>A torcida do corona deve estar arrancando os c...</td>\n",
       "      <td>0</td>\n",
       "    </tr>\n",
       "    <tr>\n",
       "      <th>2895</th>\n",
       "      <td>“OS EUA E O CORONAVÍRUS :\\n\\nAcabei de assisti...</td>\n",
       "      <td>0</td>\n",
       "    </tr>\n",
       "    <tr>\n",
       "      <th>2896</th>\n",
       "      <td>Estatísticas falsas conforme depoimentos colhi...</td>\n",
       "      <td>1</td>\n",
       "    </tr>\n",
       "    <tr>\n",
       "      <th>2897</th>\n",
       "      <td>Atenção =&gt; 🇧🇷💓💓💓 *MUITO IMPORTANTE! \"Como é qu...</td>\n",
       "      <td>0</td>\n",
       "    </tr>\n",
       "    <tr>\n",
       "      <th>2898</th>\n",
       "      <td>[2:36 PM, 11/06/2020] Wellington: ```*ALERTA A...</td>\n",
       "      <td>1</td>\n",
       "    </tr>\n",
       "  </tbody>\n",
       "</table>\n",
       "<p>2899 rows × 2 columns</p>\n",
       "</div>"
      ],
      "text/plain": [
       "                                                   text  misinformation\n",
       "0     O ministro da Ciência, Tecnologia, Inovações e...               0\n",
       "1     Pesquisa com mais de 6.000 médicos em 30 paíse...               1\n",
       "2     É com muita alegria que comunico que mais um p...               0\n",
       "3     Renda Brasil unificará vários programas sociai...               0\n",
       "4     O Secretário-Geral da OTAN Jens Stoltenberg ta...               0\n",
       "...                                                 ...             ...\n",
       "2894  A torcida do corona deve estar arrancando os c...               0\n",
       "2895  “OS EUA E O CORONAVÍRUS :\\n\\nAcabei de assisti...               0\n",
       "2896  Estatísticas falsas conforme depoimentos colhi...               1\n",
       "2897  Atenção => 🇧🇷💓💓💓 *MUITO IMPORTANTE! \"Como é qu...               0\n",
       "2898  [2:36 PM, 11/06/2020] Wellington: ```*ALERTA A...               1\n",
       "\n",
       "[2899 rows x 2 columns]"
      ]
     },
     "execution_count": 12,
     "metadata": {},
     "output_type": "execute_result"
    }
   ],
   "source": [
    "dataset_df = original_dataset_df[[\"text\", \"misinformation\"]]\n",
    "dataset_df"
   ]
  }
 ],
 "metadata": {
  "kernelspec": {
   "display_name": "env",
   "language": "python",
   "name": "python3"
  },
  "language_info": {
   "codemirror_mode": {
    "name": "ipython",
    "version": 3
   },
   "file_extension": ".py",
   "mimetype": "text/x-python",
   "name": "python",
   "nbconvert_exporter": "python",
   "pygments_lexer": "ipython3",
   "version": "3.10.12"
  }
 },
 "nbformat": 4,
 "nbformat_minor": 2
}
